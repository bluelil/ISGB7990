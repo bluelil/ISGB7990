{
 "cells": [
  {
   "cell_type": "markdown",
   "metadata": {},
   "source": [
    "<img src= \"https://encrypted-tbn0.gstatic.com/images?q=tbn:ANd9GcRsDWyRiGe0eK7rfR4Lhh6MMWnTso2EHhzjT0yRqTGmWnn44krnBw&s\" width = 400>"
   ]
  },
  {
   "cell_type": "markdown",
   "metadata": {},
   "source": [
    "## <font color=\"blue\">Chap3 -- Exercises on Decisions</font> \n",
    "#### <font color=\"purple\">Dr Kamesam</font>\n",
    "\n",
    "python tutor  http://www.pythontutor.com/visualize.html#mode=edit"
   ]
  },
  {
   "cell_type": "markdown",
   "metadata": {},
   "source": [
    "### <font color=\"blue\">Q1: Determine the truth-value of the Logical expressions.</font>\n",
    "1. First, evaluate the truth-value and write it as a comment next to each expression (or on paper) \n",
    "2. Next, execute the code below (by removing #) to test your understanding.\n",
    "3. Remember, you need to remove the comment before each expression"
   ]
  },
  {
   "cell_type": "code",
   "execution_count": 2,
   "metadata": {
    "scrolled": true
   },
   "outputs": [
    {
     "name": "stdout",
     "output_type": "stream",
     "text": [
      "True\n",
      "True\n",
      "False\n",
      "True\n",
      "True\n",
      "True\n",
      "False\n"
     ]
    }
   ],
   "source": [
    "# Q1 Answer:\n",
    "a = 2\n",
    "b = 4\n",
    "c = 6\n",
    "text1 = \"mammals\"\n",
    "text2 = \"minimal\"\n",
    "\n",
    "# Logical Expressions\n",
    "print(a + b >= c)\n",
    "print((a == 4)  or (b  >  2))               \n",
    "print((6 <= c)  and  (a > 3))             \n",
    "print((1 != b) and (c != 3))              \n",
    "print((a >= -1)  or (a <= b))          \n",
    "print(not ( a > 2))\n",
    "print(text1 > text2)\n",
    "\n"
   ]
  },
  {
   "cell_type": "markdown",
   "metadata": {},
   "source": [
    "#### Q2: At a grocery store, a 12oz packet of cashews sells for 4.58 (dollars), where as an 18oz packet sells for 6.51 (dollars). Is the larger packet any cheaper in terms of cost per oz? Write a program in which you \n",
    "- store the prices in two variables (ex: price_12oz, price_18oz). \n",
    "- Calculate and store the price per oz. of each packet\n",
    "- Compare the two and print a message indicating which packet is a better deal"
   ]
  },
  {
   "cell_type": "code",
   "execution_count": 4,
   "metadata": {},
   "outputs": [
    {
     "name": "stdout",
     "output_type": "stream",
     "text": [
      "0.36166666666666664\n",
      "18oz is more cheaper\n"
     ]
    }
   ],
   "source": [
    "#Q2 Answer:\n",
    "\n",
    "price_12oz = 4.58\n",
    "price_18oz = 6.51\n",
    "per_oz_12   = price_12oz / 12\n",
    "per_oz_18   = price_18oz / 18\n",
    "# which packet is a better deal?\n",
    "if per_oz_12 > per_oz_18:\n",
    "    print(per_oz_18)\n",
    "    print(\"18oz is more cheaper\")\n",
    "else:\n",
    "    print(per_oz_12)\n",
    "    print(\"12oz is moer cheaper\")"
   ]
  },
  {
   "cell_type": "markdown",
   "metadata": {},
   "source": [
    "#### Q3:\tOn a highway, the speed limits are min_speed = 45,  max_speed = 65.  Write a program that \n",
    "- asks for, and stores the user's driving speed\n",
    "- checks to see if the driving speed is within the speed limits. \n",
    "- displays  \"The speed is within the speed limits\" or \"The speed is NOT within the speed limits\", as appropriate."
   ]
  },
  {
   "cell_type": "code",
   "execution_count": 10,
   "metadata": {},
   "outputs": [
    {
     "name": "stdout",
     "output_type": "stream",
     "text": [
      "Type your speed: 60\n",
      "The speed is within the speed limits\n"
     ]
    }
   ],
   "source": [
    "#Q3 Answer:\n",
    "min_speed = 45\n",
    "max_speed = 65\n",
    "speed = float(input(\"Type your speed: \"))\n",
    "if (speed <= max_speed) and (speed >= min_speed):\n",
    "    print(\"The speed is within the speed limits\")\n",
    "else:\n",
    "    print(\"The speed is NOT within the speed limits\")"
   ]
  },
  {
   "cell_type": "markdown",
   "metadata": {},
   "source": [
    "#### Q4: Write a Program that\n",
    "- Accepts an integer number as input from the user. \n",
    "- determine if the number is even or odd and print an appropriate message. \n",
    "- (Hint: can the remainder operator (%) help?). Actually, it is called the **modulus**  operator"
   ]
  },
  {
   "cell_type": "code",
   "execution_count": 11,
   "metadata": {},
   "outputs": [
    {
     "name": "stdout",
     "output_type": "stream",
     "text": [
      "please input in interger: 46\n",
      "46  is even\n"
     ]
    }
   ],
   "source": [
    "#Q4 Answer:\n",
    "number = int(input(\"please input in interger: \"))\n",
    "remainder = number % 2\n",
    "if remainder == 0:\n",
    "    print(number, \" is even\")\n",
    "else:\n",
    "    print(number, \" is odd\")\n"
   ]
  },
  {
   "cell_type": "markdown",
   "metadata": {},
   "source": [
    "#### <font color=\"blue\">Q5: Students are encouraged to apply for the President's scholarship. Determine eligibility</font>\n",
    "\n",
    "1. Seniors with a GPA of 3.3 or higher are eligible to apply. Juniors are also eligible, provided they have a GPA of 3.6 or higher\n",
    "2. Get student input on **seniority** and **gpa**\n",
    "3. Determine if the student is eligible to apply or not.\n",
    "4. Inform the student with a message."
   ]
  },
  {
   "cell_type": "code",
   "execution_count": 12,
   "metadata": {},
   "outputs": [
    {
     "ename": "SyntaxError",
     "evalue": "invalid syntax (<ipython-input-12-ce5c3cffb72b>, line 4)",
     "output_type": "error",
     "traceback": [
      "\u001b[1;36m  File \u001b[1;32m\"<ipython-input-12-ce5c3cffb72b>\"\u001b[1;36m, line \u001b[1;32m4\u001b[0m\n\u001b[1;33m    if (sen  = \"senior\") and (gpa >= 3.3):\u001b[0m\n\u001b[1;37m             ^\u001b[0m\n\u001b[1;31mSyntaxError\u001b[0m\u001b[1;31m:\u001b[0m invalid syntax\n"
     ]
    }
   ],
   "source": [
    "#Q5 Answer:\n",
    "sen = input(\"Which year are you in the school? \")\n",
    "gpa = float(input(\"What's your gpa? \"))\n",
    "if (sen  = \"senior\") and (gpa >= 3.3):\n",
    "    print(\"You are eligible to apply.\")\n",
    "elif (sen = \"junior\") and (gpa >= 3.6):\n",
    "    print(\"You are eligible to apply.\")\n",
    "else:\n",
    "    print(\"Maybe try next times.\")"
   ]
  },
  {
   "cell_type": "markdown",
   "metadata": {},
   "source": [
    "#### Q6: Write a program that asks the user to input a person’s age. The program should display a message as follows.\n",
    "- If the person is 1 yr old or less, display  ‘this person is an infant’\n",
    "- If the person is older than 1 yr, but younger than 13, “this person is a child’\n",
    "- If atleast 13yrs , but less than 20 yrs,  “this person is a teenager”\n",
    "- If the person is 20 yrs or more display “this person is an adult”.\n",
    "\n",
    "Test your program with the following inputs:  13, 0.93, 12.2, 27.5, 20 \n"
   ]
  },
  {
   "cell_type": "code",
   "execution_count": 19,
   "metadata": {},
   "outputs": [
    {
     "name": "stdout",
     "output_type": "stream",
     "text": [
      "The age is: 20\n",
      "this person is an adult\n"
     ]
    }
   ],
   "source": [
    "# Q6 Answer:\n",
    "age = float(input(\"The age is: \"))\n",
    "if age <= 1:\n",
    "    print(\"this person is an infant\")\n",
    "elif age < 13:\n",
    "    print(\"this person is a child\")\n",
    "elif age < 20:\n",
    "    print(\"this person is a teenager\")\n",
    "else:\n",
    "    print(\"this person is an adult\")"
   ]
  },
  {
   "cell_type": "markdown",
   "metadata": {},
   "source": [
    "#### Q7: Shipping cost calculation\n",
    "1. Ask the user to enter the weight of a package (in lbs) to be shipped. Expect a decimal number\n",
    "2. The cost of shipping (per pound) is specified in the table below\n",
    "3. Calculate and display the weight, as well as the shipping cost. \n",
    "4. Test your program five times with inputs: 1.5, 17.8, 5.89, 9.0, 0.5 \n",
    "\n",
    "| weight                                \t| dollars per pound \t|\n",
    "|---------------------------------------\t|-------------------\t|\n",
    "| 2 lbs or less                         \t| 4.00              \t|\n",
    "| more than 2lb, but no more than 6 lbs \t| 3.00              \t|\n",
    "| more than 6lb, but no more than 10lbs \t| 2.75              \t|\n",
    "| over 10 lbs                           \t| 2.50              \t|"
   ]
  },
  {
   "cell_type": "code",
   "execution_count": 20,
   "metadata": {},
   "outputs": [
    {
     "name": "stdout",
     "output_type": "stream",
     "text": [
      "weight of the package is: 2\n",
      "For weight is  2.0 lbs, shipping cost is $  8.0\n"
     ]
    }
   ],
   "source": [
    "# Q7 Answer:\n",
    "weight = float(input(\"weight of the package is: \"))\n",
    "if weight <= 2:\n",
    "    rate = 4.00\n",
    "elif weight <= 6:\n",
    "    rate = 3.00\n",
    "elif weight <= 10:\n",
    "    rate = 2.75\n",
    "else:\n",
    "    rate = 2.50\n",
    "shipping_cost = weight * rate\n",
    "print(\"For weight is \", weight, \"lbs, shipping cost is $ \", shipping_cost)"
   ]
  },
  {
   "cell_type": "markdown",
   "metadata": {},
   "source": [
    "#### Q8: Loyola College awards honors to graduating students as per the table below. \n",
    "-  GPA of 4.00 or above:   **Summa Cum Laude**\n",
    "-  GPA of 3.75 or above: **Magna Cum Laude**\n",
    "-  GPA higher than 3.50: **Cum Laude**\n",
    "-  Otherwise: **Graduation with Pride**\n",
    "\n",
    "**Write a program that**\n",
    "1. Asks the student to input her GPA\n",
    "2. Determines the honors the student will graduate with\n",
    "3. Output an appropriate message to the student, informing her of her honors."
   ]
  },
  {
   "cell_type": "code",
   "execution_count": null,
   "metadata": {},
   "outputs": [],
   "source": [
    "gpa = float(input(\"Your GPA is: \"))\n",
    "if gpa >= 4.00:\n",
    "    print(\"Congras!\")"
   ]
  }
 ],
 "metadata": {
  "kernelspec": {
   "display_name": "Python 3",
   "language": "python",
   "name": "python3"
  },
  "language_info": {
   "codemirror_mode": {
    "name": "ipython",
    "version": 3
   },
   "file_extension": ".py",
   "mimetype": "text/x-python",
   "name": "python",
   "nbconvert_exporter": "python",
   "pygments_lexer": "ipython3",
   "version": "3.7.4"
  }
 },
 "nbformat": 4,
 "nbformat_minor": 2
}
